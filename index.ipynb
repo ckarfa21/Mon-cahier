{
 "cells": [
  {
   "cell_type": "markdown",
   "metadata": {},
   "source": [
    "![Logo](../images/logo.jpg)"
   ]
  },
  {
   "cell_type": "markdown",
   "metadata": {},
   "source": [
    "# Cahier d'apprentissage\n",
    "               \n",
    "### BY Karfaoui Christelle FROM Kusanagi"
   ]
  },
  {
   "cell_type": "markdown",
   "metadata": {},
   "source": [
    "# Introduction"
   ]
  },
  {
   "cell_type": "markdown",
   "metadata": {},
   "source": [
    "<p> Ce cahier d'apprentissage sera mon compagnon et aide mémoire au cours de cette année. J'y ajouterai au fur et à mesure les ressources que j'aurai croisé durant mon apprentissage. Ce qui en fera un référentiel pour le quotidient et un recueil de savoir.<p>"
   ]
  },
  {
   "cell_type": "markdown",
   "metadata": {},
   "source": [
    "# Liens utiles : \n",
    "- <h5><a href =https://learninglab.gitlabpages.inria.fr/mooc-rr/mooc-rr-ressources/module2/ressources/jupyter_fr.html>jupyter notebook</a></h5>\n",
    "\n",
    "- <h5><a href = https://www.elephorm.com/formation/code/python/apprendre-programmer-en-python>ELEPHORM - Apprendre Python</a></h5>\n",
    "- <h5><a href = https://www.kaggle.com/learn/python>KAGGLE</a></h5>\n",
    "- <h5><a href = https://docs.python.org/fr/3/tutorial/index.html>Python.org</a></h5>\n",
    "- <h5><a href = https://openclassrooms.com/forum/categorie/langage-python>OpenClassRoom.com</a></h5>\n",
    "- <h5><a href = https://python.doctor>Python Doctor.com</a></h5>\n",
    "- <h5><a href =https://dev.socrata.com/blog/2016/02/01/pandas-and-jupyter-notebook.html>Notebook pandas.com</a></h5>\n",
    "- <h5><a href =https://docs.streamlit.io/en/stable/>Documentation streamlit.com</a></h5>\n",
    "- <h5><a href =https://vuejs.org/>Doc vueJs.com</a></h5>\n",
    "- <h5><a href =https://www.ionos.fr/digitalguide/sites-internet/developpement-web/markdown//>Markdown.com</a></h5>\n",
    "- <h5><a href =https://riptutorial.com/Download/pandas-fr.pdf>Travailler avec pandas</a></h5>\n",
    "- <h5><a href =https://www.cours-gratuit.com/tutoriel-python/tutoriel-python-comment-manipuler-les-fichiers-et-dossiers-en-python>Travailler avec os</a></h5>\n",
    "- <h5><a href =https://www.kaggle.com/scratchpad/notebook67d863b8ab/edit>importer un repertoire avec  avec os</a></h5>"
   ]
  },
  {
   "cell_type": "markdown",
   "metadata": {},
   "source": [
    "# Traitement d'image :"
   ]
  },
  {
   "cell_type": "markdown",
   "metadata": {},
   "source": [
    "\n",
    "💠[Traitement d'images avec scikit images]( https://kapernikov.com/tutorial-image-classification-with-scikit-learn/).\n",
    "***\n",
    "💠[Traitement d'images avec opencv2](https://www.kongakura.fr/article/OpenCV_Python_Tutoriel) .\n",
    "\n",
    "💠[Suppression du bruit dans l'image avec opencv2](https://www.it-swarm-fr.com/fr/python/supprimer-le-bruit-de-limage-seuil-opencv-python/830311665/)\n"
   ]
  },
  {
   "cell_type": "markdown",
   "metadata": {},
   "source": [
    "# Traitement de texte :"
   ]
  },
  {
   "cell_type": "markdown",
   "metadata": {},
   "source": [
    "✂🔎📝[ocr](https://www.datacorner.fr/tesseract-adv/)"
   ]
  },
  {
   "cell_type": "code",
   "execution_count": null,
   "metadata": {},
   "outputs": [],
   "source": []
  }
 ],
 "metadata": {
  "celltoolbar": "Aucun(e)",
  "kernelspec": {
   "display_name": "Python 3",
   "language": "python",
   "name": "python3"
  },
  "language_info": {
   "codemirror_mode": {
    "name": "ipython",
    "version": 3
   },
   "file_extension": ".py",
   "mimetype": "text/x-python",
   "name": "python",
   "nbconvert_exporter": "python",
   "pygments_lexer": "ipython3",
   "version": "3.8.5"
  }
 },
 "nbformat": 4,
 "nbformat_minor": 4
}
